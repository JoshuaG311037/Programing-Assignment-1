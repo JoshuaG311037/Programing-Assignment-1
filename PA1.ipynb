{
 "cells": [
  {
   "cell_type": "markdown",
   "id": "42476c5c-800a-41b1-9539-5425fce5b9ba",
   "metadata": {},
   "source": [
    "## Problem 1"
   ]
  },
  {
   "cell_type": "code",
   "execution_count": 101,
   "id": "eaba7cbd-302b-42b4-ae8c-1a0e9362956e",
   "metadata": {},
   "outputs": [
    {
     "name": "stdin",
     "output_type": "stream",
     "text": [
      "Enter a name:  concentration\n"
     ]
    },
    {
     "name": "stdout",
     "output_type": "stream",
     "text": [
      "acceinnnoortt\n"
     ]
    }
   ],
   "source": [
    "def alphabet_soup(word: str): \n",
    "    return \"\".join(sorted(word))\n",
    "\n",
    "word = input(\"Enter a name: \")\n",
    "print(alphabet_soup(word))"
   ]
  },
  {
   "cell_type": "code",
   "execution_count": 87,
   "id": "8d7f5339-6b59-4378-b8c1-49373959f67c",
   "metadata": {},
   "outputs": [
    {
     "data": {
      "text/plain": [
       "'acek'"
      ]
     },
     "execution_count": 87,
     "metadata": {},
     "output_type": "execute_result"
    }
   ],
   "source": [
    "alphabet_soup(\"cake\")"
   ]
  },
  {
   "cell_type": "code",
   "execution_count": 89,
   "id": "d73c7f4a-d17f-42f3-aaf0-8238f8ae4d22",
   "metadata": {},
   "outputs": [
    {
     "data": {
      "text/plain": [
       "'ahjosu'"
      ]
     },
     "execution_count": 89,
     "metadata": {},
     "output_type": "execute_result"
    }
   ],
   "source": [
    "alphabet_soup(\"joshua\")"
   ]
  },
  {
   "cell_type": "markdown",
   "id": "bf3dd3ae-e120-4c8c-9da1-676dbc31b279",
   "metadata": {},
   "source": [
    "## Problem 2"
   ]
  },
  {
   "cell_type": "code",
   "execution_count": 74,
   "id": "6cd59f24-d462-44ff-8297-8326b15bb200",
   "metadata": {},
   "outputs": [],
   "source": [
    "def emotify(word):\n",
    "    emoticons = {\"smile\": \":)\", \"grin\": \":D\", \"sad\": \":((\", \"mad\": \">:(\"}\n",
    "    sentence = word.split()\n",
    "    result = [emoticons[word] if word in emoticons else word for word in sentence]\n",
    "    return \" \".join(result)"
   ]
  },
  {
   "cell_type": "code",
   "execution_count": 67,
   "id": "a2856f0f-ad1c-404b-9306-b18e5d37fe58",
   "metadata": {},
   "outputs": [
    {
     "data": {
      "text/plain": [
       "'I am happy, it makes me :)'"
      ]
     },
     "execution_count": 67,
     "metadata": {},
     "output_type": "execute_result"
    }
   ],
   "source": [
    "emotify(\"I am happy, it makes me smile\")"
   ]
  },
  {
   "cell_type": "code",
   "execution_count": 69,
   "id": "80d6550b-141b-4eaa-a7ce-ae9eab7e68ac",
   "metadata": {},
   "outputs": [
    {
     "data": {
      "text/plain": [
       "'I am >:('"
      ]
     },
     "execution_count": 69,
     "metadata": {},
     "output_type": "execute_result"
    }
   ],
   "source": [
    "emotify(\"I am mad\")"
   ]
  },
  {
   "cell_type": "markdown",
   "id": "39262105-0b7f-4f2f-b41c-9fa509d6b797",
   "metadata": {},
   "source": [
    "## Problem 3"
   ]
  },
  {
   "cell_type": "code",
   "execution_count": 91,
   "id": "c56b36ff-8f82-44f3-88ee-ca94ddbbfcc4",
   "metadata": {},
   "outputs": [
    {
     "name": "stdout",
     "output_type": "stream",
     "text": [
      "First: 1\t Middle: [2, 3, 4, 5, 6, 7, 8, 9]\t Last: 10\n"
     ]
    }
   ],
   "source": [
    "num_list = [1, 2, 3, 4, 5, 6, 7, 8, 9, 10]\n",
    "\n",
    "first, *middle, last = num_list\n",
    "print(f\"First: {first}\\t Middle: {middle}\\t Last: {last}\")"
   ]
  },
  {
   "cell_type": "code",
   "execution_count": 99,
   "id": "df6da8ea-d6ab-4f00-a201-8b7d0c92c499",
   "metadata": {},
   "outputs": [
    {
     "name": "stdout",
     "output_type": "stream",
     "text": [
      "First: a\t Middle: [9, 'c', 'd']\t Last e\n"
     ]
    }
   ],
   "source": [
    "letter_list = [\"a\", 9, \"c\", \"d\", \"e\"]\n",
    "\n",
    "first, *middle, last = letter_list\n",
    "print(f\"First: {first}\\t Middle: {middle}\\t Last {last}\")"
   ]
  },
  {
   "cell_type": "code",
   "execution_count": null,
   "id": "1b577ef7-d3f0-4bc6-a596-dd1d5875a329",
   "metadata": {},
   "outputs": [],
   "source": []
  }
 ],
 "metadata": {
  "kernelspec": {
   "display_name": "Python 3 (ipykernel)",
   "language": "python",
   "name": "python3"
  },
  "language_info": {
   "codemirror_mode": {
    "name": "ipython",
    "version": 3
   },
   "file_extension": ".py",
   "mimetype": "text/x-python",
   "name": "python",
   "nbconvert_exporter": "python",
   "pygments_lexer": "ipython3",
   "version": "3.12.4"
  }
 },
 "nbformat": 4,
 "nbformat_minor": 5
}
